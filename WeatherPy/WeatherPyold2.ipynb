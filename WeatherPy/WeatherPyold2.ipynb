{
 "cells": [
  {
   "cell_type": "markdown",
   "metadata": {},
   "source": [
    "# WeatherPy\n",
    "----\n",
    "\n",
    "#### Note\n",
    "* Instructions have been included for each segment. You do not have to follow them exactly, but they are included to help you think through the steps."
   ]
  },
  {
   "cell_type": "code",
   "execution_count": 1,
   "metadata": {},
   "outputs": [],
   "source": [
    "# Dependencies\n",
    "import matplotlib.pyplot as plt\n",
    "import requests\n",
    "import pandas as pd\n",
    "import citipy\n",
    "import random\n",
    "\n",
    "from citipy import citipy\n",
    "from api_keys import weather_api_key\n",
    "from datetime import date\n",
    "from scipy.stats import linregress"
   ]
  },
  {
   "cell_type": "markdown",
   "metadata": {},
   "source": [
    "## Generate Cities List"
   ]
  },
  {
   "cell_type": "code",
   "execution_count": null,
   "metadata": {
    "scrolled": true
   },
   "outputs": [],
   "source": [
    "# List of city data\n",
    "\n",
    "\n",
    "# Print to logger\n",
    "\n",
    "\n",
    "# Create counters\n",
    "\n",
    "\n",
    "# Loop through all the cities in our list\n",
    "\n",
    "\n",
    "# Group cities in sets of 50 for logging purposes\n",
    "\n",
    "\n",
    "# Create endpoint URL with each city\n",
    "\n",
    "\n",
    "# Log the url, record, and set numbers\n",
    "\n",
    "\n",
    "# Add 1 to the record count\n",
    "\n",
    "\n",
    "# Run an API request for each of the cities\n",
    "\n",
    "\n",
    "# Parse out the max temp, humidity, and cloudiness\n",
    "\n",
    "\n",
    "# Append the City information into city_data list\n",
    "\n",
    "\n",
    "# If an error is experienced, skip the city\n",
    "\n",
    "\n",
    "# Indicate that Data Loading is complete\n",
    "\n"
   ]
  },
  {
   "cell_type": "markdown",
   "metadata": {},
   "source": [
    "### Perform API Calls\n",
    "* Perform a weather check on each city using a series of successive API calls.\n",
    "* Include a print log of each city as it's being processed (with the city number and city name).\n"
   ]
  },
  {
   "cell_type": "code",
   "execution_count": null,
   "metadata": {
    "scrolled": true
   },
   "outputs": [],
   "source": [
    "# Convert array of dictionaries to a pandas DataFrame.\n",
    "\n",
    "city_data_df = pd.DataFrame(city_data)\n",
    "\n",
    "print city_data_df"
   ]
  },
  {
   "cell_type": "code",
   "execution_count": null,
   "metadata": {},
   "outputs": [],
   "source": []
  },
  {
   "cell_type": "markdown",
   "metadata": {},
   "source": [
    "### Convert Raw Data to DataFrame\n",
    "* Export the city data into a .csv.\n",
    "* Display the DataFrame"
   ]
  },
  {
   "cell_type": "code",
   "execution_count": 6,
   "metadata": {},
   "outputs": [
    {
     "ename": "ValueError",
     "evalue": "Length of values (547) does not match length of index (551)",
     "output_type": "error",
     "traceback": [
      "\u001b[1;31m---------------------------------------------------------------------------\u001b[0m",
      "\u001b[1;31mValueError\u001b[0m                                Traceback (most recent call last)",
      "\u001b[1;32m<ipython-input-6-c0ed0e9b0672>\u001b[0m in \u001b[0;36m<module>\u001b[1;34m\u001b[0m\n\u001b[0;32m      5\u001b[0m \u001b[1;33m\u001b[0m\u001b[0m\n\u001b[0;32m      6\u001b[0m \u001b[0mcity_data_df\u001b[0m\u001b[1;33m[\u001b[0m\u001b[1;34m'City'\u001b[0m\u001b[1;33m]\u001b[0m \u001b[1;33m=\u001b[0m \u001b[0mcities\u001b[0m\u001b[1;33m\u001b[0m\u001b[1;33m\u001b[0m\u001b[0m\n\u001b[1;32m----> 7\u001b[1;33m \u001b[0mcity_data_df\u001b[0m\u001b[1;33m[\u001b[0m\u001b[1;34m'Lat'\u001b[0m\u001b[1;33m]\u001b[0m \u001b[1;33m=\u001b[0m \u001b[0mlat\u001b[0m\u001b[1;33m\u001b[0m\u001b[1;33m\u001b[0m\u001b[0m\n\u001b[0m\u001b[0;32m      8\u001b[0m \u001b[0mcity_data_df\u001b[0m\u001b[1;33m[\u001b[0m\u001b[1;34m'Lng'\u001b[0m\u001b[1;33m]\u001b[0m \u001b[1;33m=\u001b[0m \u001b[0mlon\u001b[0m\u001b[1;33m\u001b[0m\u001b[1;33m\u001b[0m\u001b[0m\n\u001b[0;32m      9\u001b[0m \u001b[0mcity_data_df\u001b[0m\u001b[1;33m[\u001b[0m\u001b[1;34m'Max Temp'\u001b[0m\u001b[1;33m]\u001b[0m \u001b[1;33m=\u001b[0m \u001b[0mtemp_max\u001b[0m\u001b[1;33m\u001b[0m\u001b[1;33m\u001b[0m\u001b[0m\n",
      "\u001b[1;32m~\\anaconda3\\lib\\site-packages\\pandas\\core\\frame.py\u001b[0m in \u001b[0;36m__setitem__\u001b[1;34m(self, key, value)\u001b[0m\n\u001b[0;32m   3038\u001b[0m         \u001b[1;32melse\u001b[0m\u001b[1;33m:\u001b[0m\u001b[1;33m\u001b[0m\u001b[1;33m\u001b[0m\u001b[0m\n\u001b[0;32m   3039\u001b[0m             \u001b[1;31m# set column\u001b[0m\u001b[1;33m\u001b[0m\u001b[1;33m\u001b[0m\u001b[1;33m\u001b[0m\u001b[0m\n\u001b[1;32m-> 3040\u001b[1;33m             \u001b[0mself\u001b[0m\u001b[1;33m.\u001b[0m\u001b[0m_set_item\u001b[0m\u001b[1;33m(\u001b[0m\u001b[0mkey\u001b[0m\u001b[1;33m,\u001b[0m \u001b[0mvalue\u001b[0m\u001b[1;33m)\u001b[0m\u001b[1;33m\u001b[0m\u001b[1;33m\u001b[0m\u001b[0m\n\u001b[0m\u001b[0;32m   3041\u001b[0m \u001b[1;33m\u001b[0m\u001b[0m\n\u001b[0;32m   3042\u001b[0m     \u001b[1;32mdef\u001b[0m \u001b[0m_setitem_slice\u001b[0m\u001b[1;33m(\u001b[0m\u001b[0mself\u001b[0m\u001b[1;33m,\u001b[0m \u001b[0mkey\u001b[0m\u001b[1;33m:\u001b[0m \u001b[0mslice\u001b[0m\u001b[1;33m,\u001b[0m \u001b[0mvalue\u001b[0m\u001b[1;33m)\u001b[0m\u001b[1;33m:\u001b[0m\u001b[1;33m\u001b[0m\u001b[1;33m\u001b[0m\u001b[0m\n",
      "\u001b[1;32m~\\anaconda3\\lib\\site-packages\\pandas\\core\\frame.py\u001b[0m in \u001b[0;36m_set_item\u001b[1;34m(self, key, value)\u001b[0m\n\u001b[0;32m   3114\u001b[0m         \"\"\"\n\u001b[0;32m   3115\u001b[0m         \u001b[0mself\u001b[0m\u001b[1;33m.\u001b[0m\u001b[0m_ensure_valid_index\u001b[0m\u001b[1;33m(\u001b[0m\u001b[0mvalue\u001b[0m\u001b[1;33m)\u001b[0m\u001b[1;33m\u001b[0m\u001b[1;33m\u001b[0m\u001b[0m\n\u001b[1;32m-> 3116\u001b[1;33m         \u001b[0mvalue\u001b[0m \u001b[1;33m=\u001b[0m \u001b[0mself\u001b[0m\u001b[1;33m.\u001b[0m\u001b[0m_sanitize_column\u001b[0m\u001b[1;33m(\u001b[0m\u001b[0mkey\u001b[0m\u001b[1;33m,\u001b[0m \u001b[0mvalue\u001b[0m\u001b[1;33m)\u001b[0m\u001b[1;33m\u001b[0m\u001b[1;33m\u001b[0m\u001b[0m\n\u001b[0m\u001b[0;32m   3117\u001b[0m         \u001b[0mNDFrame\u001b[0m\u001b[1;33m.\u001b[0m\u001b[0m_set_item\u001b[0m\u001b[1;33m(\u001b[0m\u001b[0mself\u001b[0m\u001b[1;33m,\u001b[0m \u001b[0mkey\u001b[0m\u001b[1;33m,\u001b[0m \u001b[0mvalue\u001b[0m\u001b[1;33m)\u001b[0m\u001b[1;33m\u001b[0m\u001b[1;33m\u001b[0m\u001b[0m\n\u001b[0;32m   3118\u001b[0m \u001b[1;33m\u001b[0m\u001b[0m\n",
      "\u001b[1;32m~\\anaconda3\\lib\\site-packages\\pandas\\core\\frame.py\u001b[0m in \u001b[0;36m_sanitize_column\u001b[1;34m(self, key, value, broadcast)\u001b[0m\n\u001b[0;32m   3762\u001b[0m \u001b[1;33m\u001b[0m\u001b[0m\n\u001b[0;32m   3763\u001b[0m             \u001b[1;31m# turn me into an ndarray\u001b[0m\u001b[1;33m\u001b[0m\u001b[1;33m\u001b[0m\u001b[1;33m\u001b[0m\u001b[0m\n\u001b[1;32m-> 3764\u001b[1;33m             \u001b[0mvalue\u001b[0m \u001b[1;33m=\u001b[0m \u001b[0msanitize_index\u001b[0m\u001b[1;33m(\u001b[0m\u001b[0mvalue\u001b[0m\u001b[1;33m,\u001b[0m \u001b[0mself\u001b[0m\u001b[1;33m.\u001b[0m\u001b[0mindex\u001b[0m\u001b[1;33m)\u001b[0m\u001b[1;33m\u001b[0m\u001b[1;33m\u001b[0m\u001b[0m\n\u001b[0m\u001b[0;32m   3765\u001b[0m             \u001b[1;32mif\u001b[0m \u001b[1;32mnot\u001b[0m \u001b[0misinstance\u001b[0m\u001b[1;33m(\u001b[0m\u001b[0mvalue\u001b[0m\u001b[1;33m,\u001b[0m \u001b[1;33m(\u001b[0m\u001b[0mnp\u001b[0m\u001b[1;33m.\u001b[0m\u001b[0mndarray\u001b[0m\u001b[1;33m,\u001b[0m \u001b[0mIndex\u001b[0m\u001b[1;33m)\u001b[0m\u001b[1;33m)\u001b[0m\u001b[1;33m:\u001b[0m\u001b[1;33m\u001b[0m\u001b[1;33m\u001b[0m\u001b[0m\n\u001b[0;32m   3766\u001b[0m                 \u001b[1;32mif\u001b[0m \u001b[0misinstance\u001b[0m\u001b[1;33m(\u001b[0m\u001b[0mvalue\u001b[0m\u001b[1;33m,\u001b[0m \u001b[0mlist\u001b[0m\u001b[1;33m)\u001b[0m \u001b[1;32mand\u001b[0m \u001b[0mlen\u001b[0m\u001b[1;33m(\u001b[0m\u001b[0mvalue\u001b[0m\u001b[1;33m)\u001b[0m \u001b[1;33m>\u001b[0m \u001b[1;36m0\u001b[0m\u001b[1;33m:\u001b[0m\u001b[1;33m\u001b[0m\u001b[1;33m\u001b[0m\u001b[0m\n",
      "\u001b[1;32m~\\anaconda3\\lib\\site-packages\\pandas\\core\\internals\\construction.py\u001b[0m in \u001b[0;36msanitize_index\u001b[1;34m(data, index)\u001b[0m\n\u001b[0;32m    745\u001b[0m     \"\"\"\n\u001b[0;32m    746\u001b[0m     \u001b[1;32mif\u001b[0m \u001b[0mlen\u001b[0m\u001b[1;33m(\u001b[0m\u001b[0mdata\u001b[0m\u001b[1;33m)\u001b[0m \u001b[1;33m!=\u001b[0m \u001b[0mlen\u001b[0m\u001b[1;33m(\u001b[0m\u001b[0mindex\u001b[0m\u001b[1;33m)\u001b[0m\u001b[1;33m:\u001b[0m\u001b[1;33m\u001b[0m\u001b[1;33m\u001b[0m\u001b[0m\n\u001b[1;32m--> 747\u001b[1;33m         raise ValueError(\n\u001b[0m\u001b[0;32m    748\u001b[0m             \u001b[1;34m\"Length of values \"\u001b[0m\u001b[1;33m\u001b[0m\u001b[1;33m\u001b[0m\u001b[0m\n\u001b[0;32m    749\u001b[0m             \u001b[1;34mf\"({len(data)}) \"\u001b[0m\u001b[1;33m\u001b[0m\u001b[1;33m\u001b[0m\u001b[0m\n",
      "\u001b[1;31mValueError\u001b[0m: Length of values (547) does not match length of index (551)"
     ]
    }
   ],
   "source": [
    "# read in the data\n",
    "\n",
    "#city_data_df = pd.read_csv(\"../output_data/cities.csv\")\n",
    "city_data_df = pd.DataFrame()\n",
    "\n",
    "city_data_df['City'] = cities\n",
    "city_data_df['Lat'] = lat\n",
    "city_data_df['Lng'] = lon\n",
    "city_data_df['Max Temp'] = temp_max\n",
    "city_data_df['Humidity'] = humidty\n",
    "city_data_df['Cloudiness'] = clouds\n",
    "city_data_df['Wind Speed'] = wind_speed\n",
    "city_data_df['Country'] = country\n",
    "city_data_df['Date'] = dt\n",
    "\n",
    "city_data_df"
   ]
  },
  {
   "cell_type": "markdown",
   "metadata": {},
   "source": [
    "## Inspect the data and remove the cities where the humidity > 100%.\n",
    "----\n",
    "Skip this step if there are no cities that have humidity > 100%. "
   ]
  },
  {
   "cell_type": "code",
   "execution_count": null,
   "metadata": {},
   "outputs": [],
   "source": [
    "# Remove rows with humidity greater than 100%\n",
    "city_data_filtered_df =city_data_df.loc[city_data_df['Humidity'] < 100.1]\n",
    "city_data_filtered_df"
   ]
  },
  {
   "cell_type": "code",
   "execution_count": null,
   "metadata": {},
   "outputs": [],
   "source": [
    "#  Get the indices of cities that have humidity over 100%.\n",
    "# Get rows with humidity greater than 100%\n",
    "city_data_greater100per_df = city_data_df.loc[city_data_df['Humidity'] > 100]\n",
    "city_data_greater100per_df.index"
   ]
  },
  {
   "cell_type": "code",
   "execution_count": null,
   "metadata": {},
   "outputs": [],
   "source": [
    "# Make a new DataFrame equal to the city data to drop all humidity outliers by index.\n",
    "# Passing \"inplace=False\" will make a copy of the city_data DataFrame, which we call \"clean_city_data\".\n",
    "clean_city_data_df = city_data_df.loc[city_data_df.index != 129]\n",
    "\n",
    "clean_city_data_df"
   ]
  },
  {
   "cell_type": "markdown",
   "metadata": {},
   "source": [
    "## Plotting the Data\n",
    "* Use proper labeling of the plots using plot titles (including date of analysis) and axes labels.\n",
    "* Save the plotted figures as .pngs."
   ]
  },
  {
   "cell_type": "markdown",
   "metadata": {},
   "source": [
    "## Latitude vs. Temperature Plot"
   ]
  },
  {
   "cell_type": "code",
   "execution_count": null,
   "metadata": {
    "scrolled": true
   },
   "outputs": [],
   "source": [
    "# Plot the latitude versus temperature\n",
    "today = date.today()\n",
    "plt.title(f\"City Latitude vs. Max Temperature ({today})\")\n",
    "plt.xlabel('Latitude')\n",
    "plt.ylabel('Max Temperature (F)')\n",
    "plt.scatter(clean_city_data_df['Lat'], clean_city_data_df['Max Temp'])\n",
    "\n",
    "plt.savefig('C:/Users/jjel0\\OneDrive/Homework/python-api-challenge/output_data/LatVsTempFig')\n",
    "\n",
    "plt.show()\n",
    "\n"
   ]
  },
  {
   "cell_type": "markdown",
   "metadata": {},
   "source": [
    "## Latitude vs. Humidity Plot"
   ]
  },
  {
   "cell_type": "code",
   "execution_count": null,
   "metadata": {},
   "outputs": [],
   "source": [
    "# Plot the latitude versus humidity\n",
    "\n",
    "plt.title(f'City Latitude vs. Humidty ({today})')\n",
    "plt.xlabel('Latitude')\n",
    "plt.ylabel('Humidty (%)')\n",
    "plt.scatter(clean_city_data_df['Lat'], clean_city_data_df['Humidity'])\n",
    "\n",
    "plt.savefig('C:/Users/jjel0\\OneDrive/Homework/python-api-challenge/output_data/LatVsHumidityFig')\n",
    "\n",
    "plt.show()"
   ]
  },
  {
   "cell_type": "markdown",
   "metadata": {},
   "source": [
    "## Latitude vs. Cloudiness Plot"
   ]
  },
  {
   "cell_type": "code",
   "execution_count": null,
   "metadata": {},
   "outputs": [],
   "source": [
    "# Plot the latitude versus humidity\n",
    "\n",
    "plt.title(f'City Latitude vs. Cloudiness ({today})')\n",
    "plt.xlabel('Latitude')\n",
    "plt.ylabel('Cloudiness (%)')\n",
    "plt.scatter(clean_city_data_df['Lat'], clean_city_data_df['Cloudiness'])\n",
    "\n",
    "plt.savefig('C:/Users/jjel0\\OneDrive/Homework/python-api-challenge/output_data/LatVsCloudinessFig')\n",
    "\n",
    "plt.show()"
   ]
  },
  {
   "cell_type": "markdown",
   "metadata": {},
   "source": [
    "## Latitude vs. Wind Speed Plot"
   ]
  },
  {
   "cell_type": "code",
   "execution_count": null,
   "metadata": {},
   "outputs": [],
   "source": [
    "# Plot the latitude versus humidity\n",
    "\n",
    "plt.title(f'City Latitude vs. Wind Speed ({today})')\n",
    "plt.xlabel('Latitude')\n",
    "plt.ylabel('Wind Speed (mph)')\n",
    "plt.scatter(clean_city_data_df['Lat'], clean_city_data_df['Wind Speed'])\n",
    "\n",
    "plt.savefig('C:/Users/jjel0\\OneDrive/Homework/python-api-challenge/output_data/LatVsWindSpeedFig')\n",
    "\n",
    "plt.show()"
   ]
  },
  {
   "cell_type": "markdown",
   "metadata": {},
   "source": [
    "## Linear Regression"
   ]
  },
  {
   "cell_type": "code",
   "execution_count": null,
   "metadata": {},
   "outputs": [],
   "source": [
    "# Create a dataframe for the Northern Hemisphere and one for the Southern Hemisphere\n",
    "clean_city_data_SH_df = pd.DataFrame()\n",
    "clean_city_data_NH_df = pd.DataFrame()\n",
    "#\n",
    "\n",
    "clean_city_data_NH_df = clean_city_data_df[clean_city_data_df['Lat'] > 0]\n",
    "clean_city_data_SH_df = clean_city_data_df[clean_city_data_df['Lat'] < 0]"
   ]
  },
  {
   "cell_type": "markdown",
   "metadata": {},
   "source": [
    "####  Northern Hemisphere - Max Temp vs. Latitude Linear Regression"
   ]
  },
  {
   "cell_type": "code",
   "execution_count": null,
   "metadata": {},
   "outputs": [],
   "source": [
    "# Plot the latitude versus temperature\n",
    "today = date.today()\n",
    "plt.title(f\"City Latitude vs. Max Temperature ({today})\")\n",
    "plt.xlabel('Latitude')\n",
    "plt.ylabel('Max Temperature (F)')\n",
    "plt.scatter(clean_city_data_NH_df['Lat'], clean_city_data_NH_df['Max Temp'])\n",
    "\n",
    "# Get the regression data\n",
    "(slope, intercept, rvalue, pvalue, stderr) = linregress(clean_city_data_NH_df['Lat'], clean_city_data_NH_df['Max Temp'])\n",
    "\n",
    "# Print the correlation coefficient\n",
    "print(f\"The r-value is: {round(rvalue, 4)}\")\n",
    "\n",
    "# Create the line for the regression data and plot them\n",
    "tv_vs_wt_fit = slope * clean_city_data_NH_df['Lat'] + intercept\n",
    "plt.plot(clean_city_data_NH_df['Lat'],tv_vs_wt_fit,'-', color='r');\n",
    "\n",
    "# add the regression \n",
    "plt.text(3, 10, f\"y = {round(slope, 2)} * x + {round(intercept, 2)}\", horizontalalignment='left', size='medium', color='r', weight='semibold')\n",
    "\n",
    "plt.show()\n"
   ]
  },
  {
   "cell_type": "markdown",
   "metadata": {},
   "source": [
    "####  Southern Hemisphere - Max Temp vs. Latitude Linear Regression"
   ]
  },
  {
   "cell_type": "code",
   "execution_count": null,
   "metadata": {},
   "outputs": [],
   "source": [
    "# Plot the latitude versus temperature\n",
    "today = date.today()\n",
    "plt.title(f\"City Latitude vs. Max Temperature ({today})\")\n",
    "plt.xlabel('Latitude')\n",
    "plt.ylabel('Max Temperature (F)')\n",
    "plt.scatter(clean_city_data_SH_df['Lat'], clean_city_data_SH_df['Max Temp'])\n",
    "\n",
    "# Get the regression data\n",
    "(slope, intercept, rvalue, pvalue, stderr) = linregress(clean_city_data_SH_df['Lat'], clean_city_data_SH_df['Max Temp'])\n",
    "\n",
    "# Print the correlation coefficient\n",
    "print(f\"The r-value is: {round(rvalue, 4)}\")\n",
    "\n",
    "# Create the line for the regression data and plot them\n",
    "tv_vs_wt_fit = slope * clean_city_data_SH_df['Lat'] + intercept\n",
    "plt.plot(clean_city_data_SH_df['Lat'],tv_vs_wt_fit,'-', color='r');\n",
    "\n",
    "# add the regression \n",
    "plt.text(-20, 40, f\"y = {round(slope, 2)} * x + {round(intercept, 2)}\", horizontalalignment='left', size='medium', color='r', weight='semibold')\n",
    "\n",
    "plt.show()"
   ]
  },
  {
   "cell_type": "markdown",
   "metadata": {},
   "source": [
    "####  Northern Hemisphere - Humidity (%) vs. Latitude Linear Regression"
   ]
  },
  {
   "cell_type": "code",
   "execution_count": null,
   "metadata": {},
   "outputs": [],
   "source": [
    "# Plot the latitude versus humidity\n",
    "\n",
    "plt.title(f'City Latitude vs. Humidty ({today})')\n",
    "plt.xlabel('Latitude')\n",
    "plt.ylabel('Humidty (%)')\n",
    "plt.scatter(clean_city_data_NH_df['Lat'], clean_city_data_NH_df['Humidity'])\n",
    "\n",
    "# Get the regression data\n",
    "(slope, intercept, rvalue, pvalue, stderr) = linregress(clean_city_data_NH_df['Lat'], clean_city_data_NH_df['Humidity'])\n",
    "\n",
    "# Print the correlation coefficient\n",
    "print(f\"The r-value is: {round(rvalue, 4)}\")\n",
    "\n",
    "# Create the line for the regression data and plot them\n",
    "tv_vs_wt_fit = slope * clean_city_data_NH_df['Lat'] + intercept\n",
    "plt.plot(clean_city_data_NH_df['Lat'],tv_vs_wt_fit,'-', color='r');\n",
    "\n",
    "# add the regression \n",
    "plt.text(50, 10, f\"y = {round(slope, 2)} * x + {round(intercept, 2)}\", horizontalalignment='left', size='medium', color='r', weight='semibold')\n",
    "\n",
    "plt.show()"
   ]
  },
  {
   "cell_type": "markdown",
   "metadata": {},
   "source": [
    "####  Southern Hemisphere - Humidity (%) vs. Latitude Linear Regression"
   ]
  },
  {
   "cell_type": "code",
   "execution_count": null,
   "metadata": {},
   "outputs": [],
   "source": [
    "# Plot the latitude versus humidity\n",
    "\n",
    "plt.title(f'City Latitude vs. Humidty ({today})')\n",
    "plt.xlabel('Latitude')\n",
    "plt.ylabel('Humidty (%)')\n",
    "plt.scatter(clean_city_data_SH_df['Lat'], clean_city_data_SH_df['Humidity'])\n",
    "\n",
    "# Get the regression data\n",
    "(slope, intercept, rvalue, pvalue, stderr) = linregress(clean_city_data_SH_df['Lat'], clean_city_data_SH_df['Humidity'])\n",
    "\n",
    "# Print the correlation coefficient\n",
    "print(f\"The r-value is: {round(rvalue, 4)}\")\n",
    "\n",
    "# Create the line for the regression data and plot them\n",
    "tv_vs_wt_fit = slope * clean_city_data_SH_df['Lat'] + intercept\n",
    "plt.plot(clean_city_data_SH_df['Lat'],tv_vs_wt_fit,'-', color='r');\n",
    "\n",
    "# add the regression \n",
    "plt.text(-50, 20, f\"y = {round(slope, 2)} * x + {round(intercept, 2)}\", horizontalalignment='left', size='medium', color='r', weight='semibold')\n",
    "\n",
    "plt.show()"
   ]
  },
  {
   "cell_type": "markdown",
   "metadata": {},
   "source": [
    "####  Northern Hemisphere - Cloudiness (%) vs. Latitude Linear Regression"
   ]
  },
  {
   "cell_type": "code",
   "execution_count": null,
   "metadata": {},
   "outputs": [],
   "source": [
    "# Plot the latitude versus humidity\n",
    "\n",
    "plt.title(f'City Latitude vs. Cloudiness ({today})')\n",
    "plt.xlabel('Latitude')\n",
    "plt.ylabel('Cloudiness (%)')\n",
    "plt.scatter(clean_city_data_NH_df['Lat'], clean_city_data_NH_df['Cloudiness'])\n",
    "\n",
    "# Get the regression data\n",
    "(slope, intercept, rvalue, pvalue, stderr) = linregress(clean_city_data_NH_df['Lat'], clean_city_data_NH_df['Cloudiness'])\n",
    "\n",
    "# Print the correlation coefficient\n",
    "print(f\"The r-value is: {round(rvalue, 4)}\")\n",
    "\n",
    "# Create the line for the regression data and plot them\n",
    "tv_vs_wt_fit = slope * clean_city_data_NH_df['Lat'] + intercept\n",
    "plt.plot(clean_city_data_NH_df['Lat'],tv_vs_wt_fit,'-', color='r');\n",
    "\n",
    "# add the regression \n",
    "plt.text(0, 10, f\"y = {round(slope, 2)} * x + {round(intercept, 2)}\", horizontalalignment='left', size='medium', color='r', weight='semibold')\n",
    "\n",
    "plt.show()"
   ]
  },
  {
   "cell_type": "markdown",
   "metadata": {},
   "source": [
    "####  Southern Hemisphere - Cloudiness (%) vs. Latitude Linear Regression"
   ]
  },
  {
   "cell_type": "code",
   "execution_count": null,
   "metadata": {},
   "outputs": [],
   "source": [
    "# Plot the latitude versus humidity\n",
    "\n",
    "plt.title(f'City Latitude vs. Cloudiness ({today})')\n",
    "plt.xlabel('Latitude')\n",
    "plt.ylabel('Cloudiness (%)')\n",
    "plt.scatter(clean_city_data_SH_df['Lat'], clean_city_data_SH_df['Cloudiness'])\n",
    "\n",
    "# Get the regression data\n",
    "(slope, intercept, rvalue, pvalue, stderr) = linregress(clean_city_data_SH_df['Lat'], clean_city_data_SH_df['Cloudiness'])\n",
    "\n",
    "# Print the correlation coefficient\n",
    "print(f\"The r-value is: {round(rvalue, 4)}\")\n",
    "\n",
    "# Create the line for the regression data and plot them\n",
    "tv_vs_wt_fit = slope * clean_city_data_SH_df['Lat'] + intercept\n",
    "plt.plot(clean_city_data_SH_df['Lat'],tv_vs_wt_fit,'-', color='r');\n",
    "\n",
    "# add the regression \n",
    "plt.text(-50, 10, f\"y = {round(slope, 2)} * x + {round(intercept, 2)}\", horizontalalignment='left', size='medium', color='r', weight='semibold')\n",
    "\n",
    "plt.show()"
   ]
  },
  {
   "cell_type": "markdown",
   "metadata": {},
   "source": [
    "####  Northern Hemisphere - Wind Speed (mph) vs. Latitude Linear Regression"
   ]
  },
  {
   "cell_type": "code",
   "execution_count": null,
   "metadata": {},
   "outputs": [],
   "source": [
    "# Plot the latitude versus humidity\n",
    "\n",
    "plt.title(f'City Latitude vs. Wind Speed ({today})')\n",
    "plt.xlabel('Latitude')\n",
    "plt.ylabel('Wind Speed (mph)')\n",
    "plt.scatter(clean_city_data_NH_df['Lat'], clean_city_data_NH_df['Wind Speed'])\n",
    "\n",
    "# Get the regression data\n",
    "(slope, intercept, rvalue, pvalue, stderr) = linregress(clean_city_data_NH_df['Lat'], clean_city_data_NH_df['Wind Speed'])\n",
    "\n",
    "# Print the correlation coefficient\n",
    "print(f\"The r-value is: {round(rvalue, 4)}\")\n",
    "\n",
    "# Create the line for the regression data and plot them\n",
    "tv_vs_wt_fit = slope * clean_city_data_NH_df['Lat'] + intercept\n",
    "plt.plot(clean_city_data_NH_df['Lat'],tv_vs_wt_fit,'-', color='r');\n",
    "\n",
    "# add the regression \n",
    "plt.text(0, 27, f\"y = {round(slope, 2)} * x + {round(intercept, 2)}\", horizontalalignment='left', size='medium', color='r', weight='semibold')\n",
    "\n",
    "plt.show()"
   ]
  },
  {
   "cell_type": "markdown",
   "metadata": {},
   "source": [
    "####  Southern Hemisphere - Wind Speed (mph) vs. Latitude Linear Regression"
   ]
  },
  {
   "cell_type": "code",
   "execution_count": null,
   "metadata": {},
   "outputs": [],
   "source": [
    "# Plot the latitude versus humidity\n",
    "\n",
    "plt.title(f'City Latitude vs. Wind Speed ({today})')\n",
    "plt.xlabel('Latitude')\n",
    "plt.ylabel('Wind Speed (mph)')\n",
    "plt.scatter(clean_city_data_SH_df['Lat'], clean_city_data_SH_df['Wind Speed'])\n",
    "\n",
    "# Get the regression data\n",
    "(slope, intercept, rvalue, pvalue, stderr) = linregress(clean_city_data_SH_df['Lat'], clean_city_data_SH_df['Wind Speed'])\n",
    "\n",
    "# Print the correlation coefficient\n",
    "print(f\"The r-value is: {round(rvalue, 4)}\")\n",
    "\n",
    "# Create the line for the regression data and plot them\n",
    "tv_vs_wt_fit = slope * clean_city_data_SH_df['Lat'] + intercept\n",
    "plt.plot(clean_city_data_SH_df['Lat'],tv_vs_wt_fit,'-', color='r');\n",
    "\n",
    "# add the regression \n",
    "plt.text(-20, 40, f\"y = {round(slope, 2)} * x + {round(intercept, 2)}\", horizontalalignment='left', size='medium', color='r', weight='semibold')\n",
    "\n",
    "plt.show()"
   ]
  },
  {
   "cell_type": "code",
   "execution_count": null,
   "metadata": {},
   "outputs": [],
   "source": []
  }
 ],
 "metadata": {
  "anaconda-cloud": {},
  "kernel_info": {
   "name": "python3"
  },
  "kernelspec": {
   "display_name": "Python 3",
   "language": "python",
   "name": "python3"
  },
  "language_info": {
   "codemirror_mode": {
    "name": "ipython",
    "version": 3
   },
   "file_extension": ".py",
   "mimetype": "text/x-python",
   "name": "python",
   "nbconvert_exporter": "python",
   "pygments_lexer": "ipython3",
   "version": "3.8.5"
  },
  "latex_envs": {
   "LaTeX_envs_menu_present": true,
   "autoclose": false,
   "autocomplete": true,
   "bibliofile": "biblio.bib",
   "cite_by": "apalike",
   "current_citInitial": 1,
   "eqLabelWithNumbers": true,
   "eqNumInitial": 1,
   "hotkeys": {
    "equation": "Ctrl-E",
    "itemize": "Ctrl-I"
   },
   "labels_anchors": false,
   "latex_user_defs": false,
   "report_style_numbering": false,
   "user_envs_cfg": false
  },
  "nteract": {
   "version": "0.12.3"
  }
 },
 "nbformat": 4,
 "nbformat_minor": 2
}
