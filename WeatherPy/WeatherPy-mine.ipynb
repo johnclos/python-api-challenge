{
 "cells": [
  {
   "cell_type": "markdown",
   "metadata": {},
   "source": [
    "# WeatherPy\n",
    "----\n",
    "\n",
    "#### Note\n",
    "* Instructions have been included for each segment. You do not have to follow them exactly, but they are included to help you think through the steps."
   ]
  },
  {
   "cell_type": "code",
   "execution_count": 1,
   "metadata": {},
   "outputs": [],
   "source": [
    "# Dependencies\n",
    "import matplotlib.pyplot as plt\n",
    "import requests\n",
    "import pandas as pd\n",
    "import citipy\n",
    "import random\n",
    "\n",
    "from citipy import citipy\n",
    "from api_keys import weather_api_key\n",
    "from datetime import date\n",
    "from scipy.stats import linregress"
   ]
  },
  {
   "cell_type": "markdown",
   "metadata": {},
   "source": [
    "## Generate Cities List"
   ]
  },
  {
   "cell_type": "code",
   "execution_count": 3,
   "metadata": {
    "scrolled": true
   },
   "outputs": [
    {
     "data": {
      "text/html": [
       "<div>\n",
       "<style scoped>\n",
       "    .dataframe tbody tr th:only-of-type {\n",
       "        vertical-align: middle;\n",
       "    }\n",
       "\n",
       "    .dataframe tbody tr th {\n",
       "        vertical-align: top;\n",
       "    }\n",
       "\n",
       "    .dataframe thead th {\n",
       "        text-align: right;\n",
       "    }\n",
       "</style>\n",
       "<table border=\"1\" class=\"dataframe\">\n",
       "  <thead>\n",
       "    <tr style=\"text-align: right;\">\n",
       "      <th></th>\n",
       "      <th>Latitude</th>\n",
       "      <th>Longitude</th>\n",
       "    </tr>\n",
       "  </thead>\n",
       "  <tbody>\n",
       "    <tr>\n",
       "      <th>0</th>\n",
       "      <td>33</td>\n",
       "      <td>-37</td>\n",
       "    </tr>\n",
       "    <tr>\n",
       "      <th>1</th>\n",
       "      <td>89</td>\n",
       "      <td>-17</td>\n",
       "    </tr>\n",
       "    <tr>\n",
       "      <th>2</th>\n",
       "      <td>18</td>\n",
       "      <td>104</td>\n",
       "    </tr>\n",
       "    <tr>\n",
       "      <th>3</th>\n",
       "      <td>-29</td>\n",
       "      <td>61</td>\n",
       "    </tr>\n",
       "    <tr>\n",
       "      <th>4</th>\n",
       "      <td>53</td>\n",
       "      <td>-144</td>\n",
       "    </tr>\n",
       "    <tr>\n",
       "      <th>5</th>\n",
       "      <td>-89</td>\n",
       "      <td>-50</td>\n",
       "    </tr>\n",
       "    <tr>\n",
       "      <th>6</th>\n",
       "      <td>67</td>\n",
       "      <td>118</td>\n",
       "    </tr>\n",
       "    <tr>\n",
       "      <th>7</th>\n",
       "      <td>71</td>\n",
       "      <td>-140</td>\n",
       "    </tr>\n",
       "    <tr>\n",
       "      <th>8</th>\n",
       "      <td>29</td>\n",
       "      <td>-165</td>\n",
       "    </tr>\n",
       "    <tr>\n",
       "      <th>9</th>\n",
       "      <td>-27</td>\n",
       "      <td>-107</td>\n",
       "    </tr>\n",
       "  </tbody>\n",
       "</table>\n",
       "</div>"
      ],
      "text/plain": [
       "   Latitude  Longitude\n",
       "0        33        -37\n",
       "1        89        -17\n",
       "2        18        104\n",
       "3       -29         61\n",
       "4        53       -144\n",
       "5       -89        -50\n",
       "6        67        118\n",
       "7        71       -140\n",
       "8        29       -165\n",
       "9       -27       -107"
      ]
     },
     "execution_count": 3,
     "metadata": {},
     "output_type": "execute_result"
    }
   ],
   "source": [
    "locations = pd.DataFrame([])\n",
    "\n",
    "locations['Latitude'] = []\n",
    "locations['Latitude'] = []\n",
    "value = float\n",
    "\n",
    "lat = []\n",
    "lng = []\n",
    "\n",
    "for x in range(10):\n",
    "    value = random.randint(-90, 90)\n",
    "    lat.append(value)\n",
    "    \n",
    "for x in range(10):\n",
    "    value = random.randint(-180, 180)\n",
    "    lng.append(value)\n",
    "\n",
    "# combinne them into a single dataframe\n",
    "locations['Latitude'] = lat\n",
    "locations['Longitude'] = lng\n",
    "\n",
    "# Save config information.\n",
    "url = \"http://api.openweathermap.org/data/2.5/weather?\"\n",
    "units = \"metric\"\n",
    "\n",
    "# Build partial query URL\n",
    "query_url = f\"{url}appid={weather_api_key}&units={units}&q=\"\n",
    "\n",
    "cities = []\n",
    "\n",
    "\n",
    "# Loop through the list of location to get the nearby cities\n",
    "#for location in locations:\n",
    "#    response = requests.get(query_url + city).json()\n",
    "#    lat.append(response['coord']['lat'])\n",
    "#    temp.append(response['main']['temp'])\n",
    "\n",
    "#print(f\"The latitude information received is: {lat}\")\n",
    "#print(f\"The temperature information received is: {temp}\")\n",
    "locations"
   ]
  },
  {
   "cell_type": "markdown",
   "metadata": {},
   "source": [
    "### Perform API Calls\n",
    "* Perform a weather check on each city using a series of successive API calls.\n",
    "* Include a print log of each city as it's being processed (with the city number and city name).\n"
   ]
  },
  {
   "cell_type": "code",
   "execution_count": null,
   "metadata": {
    "scrolled": true
   },
   "outputs": [],
   "source": [
    "# Save config information.\n",
    "url = \"http://api.openweathermap.org/data/2.5/weather?\"\n",
    "units = \"metric\"\n",
    "\n",
    "# Build partial query URL\n",
    "query_url = f\"{url}appid={weather_api_key}&units={units}&q=\"\n",
    "\n",
    "# Loop through the list of cities and perform a request for data on each\n",
    "for city in cities:\n",
    "    response = requests.get(query_url + city).json()\n",
    "    lat.append(response['coord']['lat'])\n",
    "    temp.append(response['main']['temp'])\n",
    "\n",
    "print(f\"The latitude information received is: {lat}\")\n",
    "print(f\"The temperature information received is: {temp}\")"
   ]
  },
  {
   "cell_type": "markdown",
   "metadata": {},
   "source": [
    "### Convert Raw Data to DataFrame\n",
    "* Export the city data into a .csv.\n",
    "* Display the DataFrame"
   ]
  },
  {
   "cell_type": "code",
   "execution_count": null,
   "metadata": {},
   "outputs": [],
   "source": [
    "# read in the data\n",
    "\n",
    "city_data_df = pd.read_csv(\"../output_data/cities.csv\")\n",
    "city_data_df"
   ]
  },
  {
   "cell_type": "markdown",
   "metadata": {},
   "source": [
    "## Inspect the data and remove the cities where the humidity > 100%.\n",
    "----\n",
    "Skip this step if there are no cities that have humidity > 100%. "
   ]
  },
  {
   "cell_type": "code",
   "execution_count": null,
   "metadata": {},
   "outputs": [],
   "source": [
    "# Remove rows with humidity greater than 100%\n",
    "city_data_filtered_df =city_data_df.loc[city_data_df['Humidity'] < 100.1]\n",
    "city_data_filtered_df"
   ]
  },
  {
   "cell_type": "code",
   "execution_count": null,
   "metadata": {},
   "outputs": [],
   "source": [
    "#  Get the indices of cities that have humidity over 100%.\n",
    "# Get rows with humidity greater than 100%\n",
    "city_data_greater100per_df = city_data_df.loc[city_data_df['Humidity'] > 100]\n",
    "city_data_greater100per_df.index"
   ]
  },
  {
   "cell_type": "code",
   "execution_count": null,
   "metadata": {},
   "outputs": [],
   "source": [
    "# Make a new DataFrame equal to the city data to drop all humidity outliers by index.\n",
    "# Passing \"inplace=False\" will make a copy of the city_data DataFrame, which we call \"clean_city_data\".\n",
    "clean_city_data_df = city_data_df.loc[city_data_df.index != 129]\n",
    "\n",
    "clean_city_data_df"
   ]
  },
  {
   "cell_type": "markdown",
   "metadata": {},
   "source": [
    "## Plotting the Data\n",
    "* Use proper labeling of the plots using plot titles (including date of analysis) and axes labels.\n",
    "* Save the plotted figures as .pngs."
   ]
  },
  {
   "cell_type": "markdown",
   "metadata": {},
   "source": [
    "## Latitude vs. Temperature Plot"
   ]
  },
  {
   "cell_type": "code",
   "execution_count": null,
   "metadata": {
    "scrolled": true
   },
   "outputs": [],
   "source": [
    "# Plot the latitude versus temperature\n",
    "today = date.today()\n",
    "plt.title(f\"City Latitude vs. Max Temperature ({today})\")\n",
    "plt.xlabel('Latitude')\n",
    "plt.ylabel('Max Temperature (F)')\n",
    "plt.scatter(clean_city_data_df['Lat'], clean_city_data_df['Max Temp'])\n",
    "\n",
    "plt.savefig('C:/Users/jjel0\\OneDrive/Homework/python-api-challenge/output_data/LatVsTempFig')\n",
    "\n",
    "plt.show()\n",
    "\n"
   ]
  },
  {
   "cell_type": "markdown",
   "metadata": {},
   "source": [
    "## Latitude vs. Humidity Plot"
   ]
  },
  {
   "cell_type": "code",
   "execution_count": null,
   "metadata": {},
   "outputs": [],
   "source": [
    "# Plot the latitude versus humidity\n",
    "\n",
    "plt.title(f'City Latitude vs. Humidty ({today})')\n",
    "plt.xlabel('Latitude')\n",
    "plt.ylabel('Humidty (%)')\n",
    "plt.scatter(clean_city_data_df['Lat'], clean_city_data_df['Humidity'])\n",
    "\n",
    "plt.savefig('C:/Users/jjel0\\OneDrive/Homework/python-api-challenge/output_data/LatVsHumidityFig')\n",
    "\n",
    "plt.show()"
   ]
  },
  {
   "cell_type": "markdown",
   "metadata": {},
   "source": [
    "## Latitude vs. Cloudiness Plot"
   ]
  },
  {
   "cell_type": "code",
   "execution_count": null,
   "metadata": {},
   "outputs": [],
   "source": [
    "# Plot the latitude versus humidity\n",
    "\n",
    "plt.title(f'City Latitude vs. Cloudiness ({today})')\n",
    "plt.xlabel('Latitude')\n",
    "plt.ylabel('Cloudiness (%)')\n",
    "plt.scatter(clean_city_data_df['Lat'], clean_city_data_df['Cloudiness'])\n",
    "\n",
    "plt.savefig('C:/Users/jjel0\\OneDrive/Homework/python-api-challenge/output_data/LatVsCloudinessFig')\n",
    "\n",
    "plt.show()"
   ]
  },
  {
   "cell_type": "markdown",
   "metadata": {},
   "source": [
    "## Latitude vs. Wind Speed Plot"
   ]
  },
  {
   "cell_type": "code",
   "execution_count": null,
   "metadata": {},
   "outputs": [],
   "source": [
    "# Plot the latitude versus humidity\n",
    "\n",
    "plt.title(f'City Latitude vs. Wind Speed ({today})')\n",
    "plt.xlabel('Latitude')\n",
    "plt.ylabel('Wind Speed (mph)')\n",
    "plt.scatter(clean_city_data_df['Lat'], clean_city_data_df['Wind Speed'])\n",
    "\n",
    "plt.savefig('C:/Users/jjel0\\OneDrive/Homework/python-api-challenge/output_data/LatVsWindSpeedFig')\n",
    "\n",
    "plt.show()"
   ]
  },
  {
   "cell_type": "markdown",
   "metadata": {},
   "source": [
    "## Linear Regression"
   ]
  },
  {
   "cell_type": "code",
   "execution_count": null,
   "metadata": {},
   "outputs": [],
   "source": [
    "# Create a dataframe for the Northern Hemisphere and one for the Southern Hemisphere\n",
    "clean_city_data_SH_df = pd.DataFrame()\n",
    "clean_city_data_NH_df = pd.DataFrame()\n",
    "#\n",
    "\n",
    "clean_city_data_NH_df = clean_city_data_df[clean_city_data_df['Lat'] > 0]\n",
    "clean_city_data_SH_df = clean_city_data_df[clean_city_data_df['Lat'] < 0]"
   ]
  },
  {
   "cell_type": "markdown",
   "metadata": {},
   "source": [
    "####  Northern Hemisphere - Max Temp vs. Latitude Linear Regression"
   ]
  },
  {
   "cell_type": "code",
   "execution_count": null,
   "metadata": {},
   "outputs": [],
   "source": [
    "# Plot the latitude versus temperature\n",
    "today = date.today()\n",
    "plt.title(f\"City Latitude vs. Max Temperature ({today})\")\n",
    "plt.xlabel('Latitude')\n",
    "plt.ylabel('Max Temperature (F)')\n",
    "plt.scatter(clean_city_data_NH_df['Lat'], clean_city_data_NH_df['Max Temp'])\n",
    "\n",
    "# Get the regression data\n",
    "(slope, intercept, rvalue, pvalue, stderr) = linregress(clean_city_data_NH_df['Lat'], clean_city_data_NH_df['Max Temp'])\n",
    "\n",
    "# Print the correlation coefficient\n",
    "print(f\"The r-value is: {round(rvalue, 4)}\")\n",
    "\n",
    "# Create the line for the regression data and plot them\n",
    "tv_vs_wt_fit = slope * clean_city_data_NH_df['Lat'] + intercept\n",
    "plt.plot(clean_city_data_NH_df['Lat'],tv_vs_wt_fit,'-', color='r');\n",
    "\n",
    "# add the regression \n",
    "plt.text(3, 10, f\"y = {round(slope, 2)} * x + {round(intercept, 2)}\", horizontalalignment='left', size='medium', color='r', weight='semibold')\n",
    "\n",
    "plt.show()\n"
   ]
  },
  {
   "cell_type": "markdown",
   "metadata": {},
   "source": [
    "####  Southern Hemisphere - Max Temp vs. Latitude Linear Regression"
   ]
  },
  {
   "cell_type": "code",
   "execution_count": null,
   "metadata": {},
   "outputs": [],
   "source": [
    "# Plot the latitude versus temperature\n",
    "today = date.today()\n",
    "plt.title(f\"City Latitude vs. Max Temperature ({today})\")\n",
    "plt.xlabel('Latitude')\n",
    "plt.ylabel('Max Temperature (F)')\n",
    "plt.scatter(clean_city_data_SH_df['Lat'], clean_city_data_SH_df['Max Temp'])\n",
    "\n",
    "# Get the regression data\n",
    "(slope, intercept, rvalue, pvalue, stderr) = linregress(clean_city_data_SH_df['Lat'], clean_city_data_SH_df['Max Temp'])\n",
    "\n",
    "# Print the correlation coefficient\n",
    "print(f\"The r-value is: {round(rvalue, 4)}\")\n",
    "\n",
    "# Create the line for the regression data and plot them\n",
    "tv_vs_wt_fit = slope * clean_city_data_SH_df['Lat'] + intercept\n",
    "plt.plot(clean_city_data_SH_df['Lat'],tv_vs_wt_fit,'-', color='r');\n",
    "\n",
    "# add the regression \n",
    "plt.text(-20, 40, f\"y = {round(slope, 2)} * x + {round(intercept, 2)}\", horizontalalignment='left', size='medium', color='r', weight='semibold')\n",
    "\n",
    "plt.show()"
   ]
  },
  {
   "cell_type": "markdown",
   "metadata": {},
   "source": [
    "####  Northern Hemisphere - Humidity (%) vs. Latitude Linear Regression"
   ]
  },
  {
   "cell_type": "code",
   "execution_count": null,
   "metadata": {},
   "outputs": [],
   "source": [
    "# Plot the latitude versus humidity\n",
    "\n",
    "plt.title(f'City Latitude vs. Humidty ({today})')\n",
    "plt.xlabel('Latitude')\n",
    "plt.ylabel('Humidty (%)')\n",
    "plt.scatter(clean_city_data_NH_df['Lat'], clean_city_data_NH_df['Humidity'])\n",
    "\n",
    "# Get the regression data\n",
    "(slope, intercept, rvalue, pvalue, stderr) = linregress(clean_city_data_NH_df['Lat'], clean_city_data_NH_df['Humidity'])\n",
    "\n",
    "# Print the correlation coefficient\n",
    "print(f\"The r-value is: {round(rvalue, 4)}\")\n",
    "\n",
    "# Create the line for the regression data and plot them\n",
    "tv_vs_wt_fit = slope * clean_city_data_NH_df['Lat'] + intercept\n",
    "plt.plot(clean_city_data_NH_df['Lat'],tv_vs_wt_fit,'-', color='r');\n",
    "\n",
    "# add the regression \n",
    "plt.text(50, 10, f\"y = {round(slope, 2)} * x + {round(intercept, 2)}\", horizontalalignment='left', size='medium', color='r', weight='semibold')\n",
    "\n",
    "plt.show()"
   ]
  },
  {
   "cell_type": "markdown",
   "metadata": {},
   "source": [
    "####  Southern Hemisphere - Humidity (%) vs. Latitude Linear Regression"
   ]
  },
  {
   "cell_type": "code",
   "execution_count": null,
   "metadata": {},
   "outputs": [],
   "source": [
    "# Plot the latitude versus humidity\n",
    "\n",
    "plt.title(f'City Latitude vs. Humidty ({today})')\n",
    "plt.xlabel('Latitude')\n",
    "plt.ylabel('Humidty (%)')\n",
    "plt.scatter(clean_city_data_SH_df['Lat'], clean_city_data_SH_df['Humidity'])\n",
    "\n",
    "# Get the regression data\n",
    "(slope, intercept, rvalue, pvalue, stderr) = linregress(clean_city_data_SH_df['Lat'], clean_city_data_SH_df['Humidity'])\n",
    "\n",
    "# Print the correlation coefficient\n",
    "print(f\"The r-value is: {round(rvalue, 4)}\")\n",
    "\n",
    "# Create the line for the regression data and plot them\n",
    "tv_vs_wt_fit = slope * clean_city_data_SH_df['Lat'] + intercept\n",
    "plt.plot(clean_city_data_SH_df['Lat'],tv_vs_wt_fit,'-', color='r');\n",
    "\n",
    "# add the regression \n",
    "plt.text(-50, 20, f\"y = {round(slope, 2)} * x + {round(intercept, 2)}\", horizontalalignment='left', size='medium', color='r', weight='semibold')\n",
    "\n",
    "plt.show()"
   ]
  },
  {
   "cell_type": "markdown",
   "metadata": {},
   "source": [
    "####  Northern Hemisphere - Cloudiness (%) vs. Latitude Linear Regression"
   ]
  },
  {
   "cell_type": "code",
   "execution_count": null,
   "metadata": {},
   "outputs": [],
   "source": [
    "# Plot the latitude versus humidity\n",
    "\n",
    "plt.title(f'City Latitude vs. Cloudiness ({today})')\n",
    "plt.xlabel('Latitude')\n",
    "plt.ylabel('Cloudiness (%)')\n",
    "plt.scatter(clean_city_data_NH_df['Lat'], clean_city_data_NH_df['Cloudiness'])\n",
    "\n",
    "# Get the regression data\n",
    "(slope, intercept, rvalue, pvalue, stderr) = linregress(clean_city_data_NH_df['Lat'], clean_city_data_NH_df['Cloudiness'])\n",
    "\n",
    "# Print the correlation coefficient\n",
    "print(f\"The r-value is: {round(rvalue, 4)}\")\n",
    "\n",
    "# Create the line for the regression data and plot them\n",
    "tv_vs_wt_fit = slope * clean_city_data_NH_df['Lat'] + intercept\n",
    "plt.plot(clean_city_data_NH_df['Lat'],tv_vs_wt_fit,'-', color='r');\n",
    "\n",
    "# add the regression \n",
    "plt.text(0, 10, f\"y = {round(slope, 2)} * x + {round(intercept, 2)}\", horizontalalignment='left', size='medium', color='r', weight='semibold')\n",
    "\n",
    "plt.show()"
   ]
  },
  {
   "cell_type": "markdown",
   "metadata": {},
   "source": [
    "####  Southern Hemisphere - Cloudiness (%) vs. Latitude Linear Regression"
   ]
  },
  {
   "cell_type": "code",
   "execution_count": null,
   "metadata": {},
   "outputs": [],
   "source": [
    "# Plot the latitude versus humidity\n",
    "\n",
    "plt.title(f'City Latitude vs. Cloudiness ({today})')\n",
    "plt.xlabel('Latitude')\n",
    "plt.ylabel('Cloudiness (%)')\n",
    "plt.scatter(clean_city_data_SH_df['Lat'], clean_city_data_SH_df['Cloudiness'])\n",
    "\n",
    "# Get the regression data\n",
    "(slope, intercept, rvalue, pvalue, stderr) = linregress(clean_city_data_SH_df['Lat'], clean_city_data_SH_df['Cloudiness'])\n",
    "\n",
    "# Print the correlation coefficient\n",
    "print(f\"The r-value is: {round(rvalue, 4)}\")\n",
    "\n",
    "# Create the line for the regression data and plot them\n",
    "tv_vs_wt_fit = slope * clean_city_data_SH_df['Lat'] + intercept\n",
    "plt.plot(clean_city_data_SH_df['Lat'],tv_vs_wt_fit,'-', color='r');\n",
    "\n",
    "# add the regression \n",
    "plt.text(-50, 10, f\"y = {round(slope, 2)} * x + {round(intercept, 2)}\", horizontalalignment='left', size='medium', color='r', weight='semibold')\n",
    "\n",
    "plt.show()"
   ]
  },
  {
   "cell_type": "markdown",
   "metadata": {},
   "source": [
    "####  Northern Hemisphere - Wind Speed (mph) vs. Latitude Linear Regression"
   ]
  },
  {
   "cell_type": "code",
   "execution_count": null,
   "metadata": {},
   "outputs": [],
   "source": [
    "# Plot the latitude versus humidity\n",
    "\n",
    "plt.title(f'City Latitude vs. Wind Speed ({today})')\n",
    "plt.xlabel('Latitude')\n",
    "plt.ylabel('Wind Speed (mph)')\n",
    "plt.scatter(clean_city_data_NH_df['Lat'], clean_city_data_NH_df['Wind Speed'])\n",
    "\n",
    "# Get the regression data\n",
    "(slope, intercept, rvalue, pvalue, stderr) = linregress(clean_city_data_NH_df['Lat'], clean_city_data_NH_df['Wind Speed'])\n",
    "\n",
    "# Print the correlation coefficient\n",
    "print(f\"The r-value is: {round(rvalue, 4)}\")\n",
    "\n",
    "# Create the line for the regression data and plot them\n",
    "tv_vs_wt_fit = slope * clean_city_data_NH_df['Lat'] + intercept\n",
    "plt.plot(clean_city_data_NH_df['Lat'],tv_vs_wt_fit,'-', color='r');\n",
    "\n",
    "# add the regression \n",
    "plt.text(0, 27, f\"y = {round(slope, 2)} * x + {round(intercept, 2)}\", horizontalalignment='left', size='medium', color='r', weight='semibold')\n",
    "\n",
    "plt.show()"
   ]
  },
  {
   "cell_type": "markdown",
   "metadata": {},
   "source": [
    "####  Southern Hemisphere - Wind Speed (mph) vs. Latitude Linear Regression"
   ]
  },
  {
   "cell_type": "code",
   "execution_count": null,
   "metadata": {},
   "outputs": [],
   "source": [
    "# Plot the latitude versus humidity\n",
    "\n",
    "plt.title(f'City Latitude vs. Wind Speed ({today})')\n",
    "plt.xlabel('Latitude')\n",
    "plt.ylabel('Wind Speed (mph)')\n",
    "plt.scatter(clean_city_data_SH_df['Lat'], clean_city_data_SH_df['Wind Speed'])\n",
    "\n",
    "# Get the regression data\n",
    "(slope, intercept, rvalue, pvalue, stderr) = linregress(clean_city_data_SH_df['Lat'], clean_city_data_SH_df['Wind Speed'])\n",
    "\n",
    "# Print the correlation coefficient\n",
    "print(f\"The r-value is: {round(rvalue, 4)}\")\n",
    "\n",
    "# Create the line for the regression data and plot them\n",
    "tv_vs_wt_fit = slope * clean_city_data_SH_df['Lat'] + intercept\n",
    "plt.plot(clean_city_data_SH_df['Lat'],tv_vs_wt_fit,'-', color='r');\n",
    "\n",
    "# add the regression \n",
    "plt.text(-20, 40, f\"y = {round(slope, 2)} * x + {round(intercept, 2)}\", horizontalalignment='left', size='medium', color='r', weight='semibold')\n",
    "\n",
    "plt.show()"
   ]
  },
  {
   "cell_type": "code",
   "execution_count": null,
   "metadata": {},
   "outputs": [],
   "source": []
  }
 ],
 "metadata": {
  "anaconda-cloud": {},
  "kernel_info": {
   "name": "python3"
  },
  "kernelspec": {
   "display_name": "Python 3",
   "language": "python",
   "name": "python3"
  },
  "language_info": {
   "codemirror_mode": {
    "name": "ipython",
    "version": 3
   },
   "file_extension": ".py",
   "mimetype": "text/x-python",
   "name": "python",
   "nbconvert_exporter": "python",
   "pygments_lexer": "ipython3",
   "version": "3.8.5"
  },
  "latex_envs": {
   "LaTeX_envs_menu_present": true,
   "autoclose": false,
   "autocomplete": true,
   "bibliofile": "biblio.bib",
   "cite_by": "apalike",
   "current_citInitial": 1,
   "eqLabelWithNumbers": true,
   "eqNumInitial": 1,
   "hotkeys": {
    "equation": "Ctrl-E",
    "itemize": "Ctrl-I"
   },
   "labels_anchors": false,
   "latex_user_defs": false,
   "report_style_numbering": false,
   "user_envs_cfg": false
  },
  "nteract": {
   "version": "0.12.3"
  }
 },
 "nbformat": 4,
 "nbformat_minor": 2
}
