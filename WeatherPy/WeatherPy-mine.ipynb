{
 "cells": [
  {
   "cell_type": "markdown",
   "metadata": {},
   "source": [
    "# WeatherPy\n",
    "----\n",
    "\n",
    "#### Note\n",
    "* Instructions have been included for each segment. You do not have to follow them exactly, but they are included to help you think through the steps."
   ]
  },
  {
   "cell_type": "code",
   "execution_count": 1,
   "metadata": {},
   "outputs": [],
   "source": [
    "# Dependencies\n",
    "import matplotlib.pyplot as plt\n",
    "import requests\n",
    "import pandas as pd\n",
    "import citipy\n",
    "import random\n",
    "import time\n",
    "\n",
    "from citipy import citipy\n",
    "from api_keys import weather_api_key\n",
    "from datetime import date\n",
    "from scipy.stats import linregress"
   ]
  },
  {
   "cell_type": "markdown",
   "metadata": {},
   "source": [
    "## Generate Cities List"
   ]
  },
  {
   "cell_type": "code",
   "execution_count": 2,
   "metadata": {
    "scrolled": true
   },
   "outputs": [],
   "source": [
    "locations = pd.DataFrame()\n",
    "\n",
    "\n",
    "locations['Latitude'] = []\n",
    "locations['Latitude'] = []\n",
    "value = float\n",
    "\n",
    "lat = []\n",
    "lng = []\n",
    "\n",
    "for x in range(1500):\n",
    "    value = random.randint(-90, 90)\n",
    "    lat.append(value)\n",
    "    \n",
    "for x in range(1500):\n",
    "    value = random.randint(-180, 180)\n",
    "    lng.append(value)\n",
    "\n",
    "# combinne them into a single dataframe\n",
    "locations['Latitude'] = lat\n",
    "locations['Longitude'] = lng\n",
    "\n",
    "cities = []\n",
    "\n",
    "locations['Locations'] = list(zip(locations['Latitude'], locations['Longitude']))\n",
    "\n",
    "# Loop through the list of locations to get the nearby cities\n",
    "for location in locations['Locations']:\n",
    "    lan, lng = location\n",
    "    city = citipy.nearest_city(lan, lng).city_name\n",
    "    if city not in cities:\n",
    "          cities.append(city)\n"
   ]
  },
  {
   "cell_type": "markdown",
   "metadata": {},
   "source": [
    "### Perform API Calls\n",
    "* Perform a weather check on each city using a series of successive API calls.\n",
    "* Include a print log of each city as it's being processed (with the city number and city name).\n"
   ]
  },
  {
   "cell_type": "code",
   "execution_count": null,
   "metadata": {
    "scrolled": true
   },
   "outputs": [
    {
     "name": "stdout",
     "output_type": "stream",
     "text": [
      "Missing field/result... skipping.\n",
      "Missing field/result... skipping.\n",
      "Missing field/result... skipping.\n",
      "Missing field/result... skipping.\n",
      "Missing field/result... skipping.\n",
      "Missing field/result... skipping.\n"
     ]
    }
   ],
   "source": [
    "# Save config information.\n",
    "url = \"http://api.openweathermap.org/data/2.5/weather?\"\n",
    "units = \"metric\"\n",
    "\n",
    "# Build partial query URL\n",
    "query_url = f\"{url}appid={weather_api_key}&units={units}&q=\"\n",
    "\n",
    "filter_cities = []\n",
    "lon = []\n",
    "lat = []\n",
    "temp_max = []\n",
    "humidity = []\n",
    "clouds = []\n",
    "wind_speed = []\n",
    "country = []\n",
    "dt = []\n",
    "\n",
    "# Loop through the list of cities and perform a request for data on each\n",
    "for city in cities:\n",
    "    try:\n",
    "        response = requests.get(query_url + city).json()\n",
    "        lat.append(response['coord']['lat'])\n",
    "        lon.append(response['coord']['lon'])\n",
    "        temp_max.append(response['main']['temp_max'])\n",
    "        humidity.append(response['main']['humidity'])\n",
    "        clouds.append(response['clouds']['all'])\n",
    "        wind_speed.append(response['wind']['speed'])\n",
    "        country.append(response['sys']['country'])\n",
    "        dt.append(response['dt'])\n",
    "        filter_cities.append(city)\n",
    "        \n",
    "    except (KeyError, IndexError):\n",
    "        print(\"Missing field/result... skipping.\")\n",
    "    \n",
    "    time.sleep(5) # Sleep for 5 seconds\n",
    "\n"
   ]
  },
  {
   "cell_type": "code",
   "execution_count": null,
   "metadata": {},
   "outputs": [],
   "source": [
    "print(len(filter_cities))\n",
    "print(len(lat))\n",
    "print(len(lon))"
   ]
  },
  {
   "cell_type": "markdown",
   "metadata": {},
   "source": [
    "### Convert Raw Data to DataFrame\n",
    "* Export the city data into a .csv.\n",
    "* Display the DataFrame"
   ]
  },
  {
   "cell_type": "code",
   "execution_count": null,
   "metadata": {},
   "outputs": [],
   "source": [
    "# read in the data\n",
    "\n",
    "#city_data_df = pd.read_csv(\"../output_data/cities.csv\")\n",
    "\n",
    "\n",
    "\n",
    "city_data_df = pd.DataFrame({'City': filter_cities, \n",
    "                             'Lat': lat,\n",
    "                             'Lng': lon,\n",
    "                             'Max Temp': temp_max,\n",
    "                             'Humidity': humidity,\n",
    "                             'Cloudiness': clouds,\n",
    "                             'Wind Speed': wind_speed,\n",
    "                             'Country': country,\n",
    "                             'Date': dt\n",
    "                             })\n",
    "\n",
    "city_data_df"
   ]
  },
  {
   "cell_type": "markdown",
   "metadata": {},
   "source": [
    "## Inspect the data and remove the cities where the humidity > 100%.\n",
    "----\n",
    "Skip this step if there are no cities that have humidity > 100%. "
   ]
  },
  {
   "cell_type": "code",
   "execution_count": null,
   "metadata": {},
   "outputs": [],
   "source": [
    "# Remove rows with humidity greater than 100%\n",
    "city_data_filtered_df =city_data_df.loc[city_data_df['Humidity'] < 100.1]\n",
    "city_data_filtered_df"
   ]
  },
  {
   "cell_type": "code",
   "execution_count": null,
   "metadata": {},
   "outputs": [],
   "source": [
    "#  Get the indices of cities that have humidity over 100%.\n",
    "# Get rows with humidity greater than 100%\n",
    "city_data_greater100per_df = city_data_df.loc[city_data_df['Humidity'] > 100]\n",
    "city_data_greater100per_df"
   ]
  },
  {
   "cell_type": "code",
   "execution_count": null,
   "metadata": {},
   "outputs": [],
   "source": [
    "# Make a new DataFrame equal to the city data to drop all humidity outliers by index.\n",
    "# Passing \"inplace=False\" will make a copy of the city_data DataFrame, which we call \"clean_city_data\".\n",
    "clean_city_data_df = city_data_df.loc[city_data_df.index != 129]\n",
    "\n",
    "clean_city_data_df"
   ]
  },
  {
   "cell_type": "markdown",
   "metadata": {},
   "source": [
    "## Plotting the Data\n",
    "* Use proper labeling of the plots using plot titles (including date of analysis) and axes labels.\n",
    "* Save the plotted figures as .pngs."
   ]
  },
  {
   "cell_type": "markdown",
   "metadata": {},
   "source": [
    "## Latitude vs. Temperature Plot"
   ]
  },
  {
   "cell_type": "code",
   "execution_count": null,
   "metadata": {
    "scrolled": true
   },
   "outputs": [],
   "source": [
    "# Plot the latitude versus temperature\n",
    "today = date.today()\n",
    "plt.title(f\"City Latitude vs. Max Temperature ({today})\")\n",
    "plt.xlabel('Latitude')\n",
    "plt.ylabel('Max Temperature (F)')\n",
    "plt.scatter(clean_city_data_df['Lat'], clean_city_data_df['Max Temp'])\n",
    "\n",
    "plt.savefig('C:/Users/jjel0\\OneDrive/Homework/python-api-challenge/output_data/LatVsTempFig')\n",
    "\n",
    "plt.show()\n",
    "\n"
   ]
  },
  {
   "cell_type": "markdown",
   "metadata": {},
   "source": [
    "## Latitude vs. Humidity Plot"
   ]
  },
  {
   "cell_type": "code",
   "execution_count": null,
   "metadata": {},
   "outputs": [],
   "source": [
    "# Plot the latitude versus humidity\n",
    "\n",
    "plt.title(f'City Latitude vs. Humidity ({today})')\n",
    "plt.xlabel('Latitude')\n",
    "plt.ylabel('Humidity (%)')\n",
    "plt.scatter(clean_city_data_df['Lat'], clean_city_data_df['Humidity'])\n",
    "\n",
    "plt.savefig('C:/Users/jjel0\\OneDrive/Homework/python-api-challenge/output_data/LatVsHumidityFig')\n",
    "\n",
    "plt.show()"
   ]
  },
  {
   "cell_type": "markdown",
   "metadata": {},
   "source": [
    "## Latitude vs. Cloudiness Plot"
   ]
  },
  {
   "cell_type": "code",
   "execution_count": null,
   "metadata": {},
   "outputs": [],
   "source": [
    "# Plot the latitude versus humidity\n",
    "\n",
    "plt.title(f'City Latitude vs. Cloudiness ({today})')\n",
    "plt.xlabel('Latitude')\n",
    "plt.ylabel('Cloudiness (%)')\n",
    "plt.scatter(clean_city_data_df['Lat'], clean_city_data_df['Cloudiness'])\n",
    "\n",
    "plt.savefig('C:/Users/jjel0\\OneDrive/Homework/python-api-challenge/output_data/LatVsCloudinessFig')\n",
    "\n",
    "plt.show()"
   ]
  },
  {
   "cell_type": "markdown",
   "metadata": {},
   "source": [
    "## Latitude vs. Wind Speed Plot"
   ]
  },
  {
   "cell_type": "code",
   "execution_count": null,
   "metadata": {},
   "outputs": [],
   "source": [
    "# Plot the latitude versus humidity\n",
    "\n",
    "plt.title(f'City Latitude vs. Wind Speed ({today})')\n",
    "plt.xlabel('Latitude')\n",
    "plt.ylabel('Wind Speed (mph)')\n",
    "plt.scatter(clean_city_data_df['Lat'], clean_city_data_df['Wind Speed'])\n",
    "\n",
    "plt.savefig('C:/Users/jjel0\\OneDrive/Homework/python-api-challenge/output_data/LatVsWindSpeedFig')\n",
    "\n",
    "plt.show()"
   ]
  },
  {
   "cell_type": "markdown",
   "metadata": {},
   "source": [
    "## Linear Regression"
   ]
  },
  {
   "cell_type": "code",
   "execution_count": null,
   "metadata": {},
   "outputs": [],
   "source": [
    "# Create a dataframe for the Northern Hemisphere and one for the Southern Hemisphere\n",
    "clean_city_data_SH_df = pd.DataFrame()\n",
    "clean_city_data_NH_df = pd.DataFrame()\n",
    "#\n",
    "\n",
    "clean_city_data_NH_df = clean_city_data_df[clean_city_data_df['Lat'] > 0]\n",
    "clean_city_data_SH_df = clean_city_data_df[clean_city_data_df['Lat'] < 0]"
   ]
  },
  {
   "cell_type": "markdown",
   "metadata": {},
   "source": [
    "####  Northern Hemisphere - Max Temp vs. Latitude Linear Regression"
   ]
  },
  {
   "cell_type": "code",
   "execution_count": null,
   "metadata": {},
   "outputs": [],
   "source": [
    "# Plot the latitude versus temperature\n",
    "today = date.today()\n",
    "plt.title(f\"City Latitude vs. Max Temperature ({today})\")\n",
    "plt.xlabel('Latitude')\n",
    "plt.ylabel('Max Temperature (F)')\n",
    "plt.scatter(clean_city_data_NH_df['Lat'], clean_city_data_NH_df['Max Temp'])\n",
    "\n",
    "# Get the regression data\n",
    "(slope, intercept, rvalue, pvalue, stderr) = linregress(clean_city_data_NH_df['Lat'], clean_city_data_NH_df['Max Temp'])\n",
    "\n",
    "# Print the correlation coefficient\n",
    "print(f\"The r-value is: {round(rvalue, 4)}\")\n",
    "\n",
    "# Create the line for the regression data and plot them\n",
    "tv_vs_wt_fit = slope * clean_city_data_NH_df['Lat'] + intercept\n",
    "plt.plot(clean_city_data_NH_df['Lat'],tv_vs_wt_fit,'-', color='r');\n",
    "\n",
    "# add the regression \n",
    "plt.text(3, 10, f\"y = {round(slope, 2)} * x + {round(intercept, 2)}\", horizontalalignment='left', size='medium', color='r', weight='semibold')\n",
    "\n",
    "plt.show()\n"
   ]
  },
  {
   "cell_type": "markdown",
   "metadata": {},
   "source": [
    "####  Southern Hemisphere - Max Temp vs. Latitude Linear Regression"
   ]
  },
  {
   "cell_type": "code",
   "execution_count": null,
   "metadata": {},
   "outputs": [],
   "source": [
    "# Plot the latitude versus temperature\n",
    "today = date.today()\n",
    "plt.title(f\"City Latitude vs. Max Temperature ({today})\")\n",
    "plt.xlabel('Latitude')\n",
    "plt.ylabel('Max Temperature (F)')\n",
    "plt.scatter(clean_city_data_SH_df['Lat'], clean_city_data_SH_df['Max Temp'])\n",
    "\n",
    "# Get the regression data\n",
    "(slope, intercept, rvalue, pvalue, stderr) = linregress(clean_city_data_SH_df['Lat'], clean_city_data_SH_df['Max Temp'])\n",
    "\n",
    "# Print the correlation coefficient\n",
    "print(f\"The r-value is: {round(rvalue, 4)}\")\n",
    "\n",
    "# Create the line for the regression data and plot them\n",
    "tv_vs_wt_fit = slope * clean_city_data_SH_df['Lat'] + intercept\n",
    "plt.plot(clean_city_data_SH_df['Lat'],tv_vs_wt_fit,'-', color='r');\n",
    "\n",
    "# add the regression \n",
    "plt.text(-20, 40, f\"y = {round(slope, 2)} * x + {round(intercept, 2)}\", horizontalalignment='left', size='medium', color='r', weight='semibold')\n",
    "\n",
    "plt.show()"
   ]
  },
  {
   "cell_type": "markdown",
   "metadata": {},
   "source": [
    "####  Northern Hemisphere - Humidity (%) vs. Latitude Linear Regression"
   ]
  },
  {
   "cell_type": "code",
   "execution_count": null,
   "metadata": {},
   "outputs": [],
   "source": [
    "# Plot the latitude versus humidity\n",
    "\n",
    "plt.title(f'City Latitude vs. Humidity ({today})')\n",
    "plt.xlabel('Latitude')\n",
    "plt.ylabel('Humidity (%)')\n",
    "plt.scatter(clean_city_data_NH_df['Lat'], clean_city_data_NH_df['Humidity'])\n",
    "\n",
    "# Get the regression data\n",
    "(slope, intercept, rvalue, pvalue, stderr) = linregress(clean_city_data_NH_df['Lat'], clean_city_data_NH_df['Humidity'])\n",
    "\n",
    "# Print the correlation coefficient\n",
    "print(f\"The r-value is: {round(rvalue, 4)}\")\n",
    "\n",
    "# Create the line for the regression data and plot them\n",
    "tv_vs_wt_fit = slope * clean_city_data_NH_df['Lat'] + intercept\n",
    "plt.plot(clean_city_data_NH_df['Lat'],tv_vs_wt_fit,'-', color='r');\n",
    "\n",
    "# add the regression \n",
    "plt.text(50, 10, f\"y = {round(slope, 2)} * x + {round(intercept, 2)}\", horizontalalignment='left', size='medium', color='r', weight='semibold')\n",
    "\n",
    "plt.show()"
   ]
  },
  {
   "cell_type": "markdown",
   "metadata": {},
   "source": [
    "####  Southern Hemisphere - Humidity (%) vs. Latitude Linear Regression"
   ]
  },
  {
   "cell_type": "code",
   "execution_count": null,
   "metadata": {},
   "outputs": [],
   "source": [
    "# Plot the latitude versus humidity\n",
    "\n",
    "plt.title(f'City Latitude vs. Humidity ({today})')\n",
    "plt.xlabel('Latitude')\n",
    "plt.ylabel('Humidity (%)')\n",
    "plt.scatter(clean_city_data_SH_df['Lat'], clean_city_data_SH_df['Humidity'])\n",
    "\n",
    "# Get the regression data\n",
    "(slope, intercept, rvalue, pvalue, stderr) = linregress(clean_city_data_SH_df['Lat'], clean_city_data_SH_df['Humidity'])\n",
    "\n",
    "# Print the correlation coefficient\n",
    "print(f\"The r-value is: {round(rvalue, 4)}\")\n",
    "\n",
    "# Create the line for the regression data and plot them\n",
    "tv_vs_wt_fit = slope * clean_city_data_SH_df['Lat'] + intercept\n",
    "plt.plot(clean_city_data_SH_df['Lat'],tv_vs_wt_fit,'-', color='r');\n",
    "\n",
    "# add the regression \n",
    "plt.text(-50, 20, f\"y = {round(slope, 2)} * x + {round(intercept, 2)}\", horizontalalignment='left', size='medium', color='r', weight='semibold')\n",
    "\n",
    "plt.show()"
   ]
  },
  {
   "cell_type": "markdown",
   "metadata": {},
   "source": [
    "####  Northern Hemisphere - Cloudiness (%) vs. Latitude Linear Regression"
   ]
  },
  {
   "cell_type": "code",
   "execution_count": null,
   "metadata": {},
   "outputs": [],
   "source": [
    "# Plot the latitude versus humidity\n",
    "\n",
    "plt.title(f'City Latitude vs. Cloudiness ({today})')\n",
    "plt.xlabel('Latitude')\n",
    "plt.ylabel('Cloudiness (%)')\n",
    "plt.scatter(clean_city_data_NH_df['Lat'], clean_city_data_NH_df['Cloudiness'])\n",
    "\n",
    "# Get the regression data\n",
    "(slope, intercept, rvalue, pvalue, stderr) = linregress(clean_city_data_NH_df['Lat'], clean_city_data_NH_df['Cloudiness'])\n",
    "\n",
    "# Print the correlation coefficient\n",
    "print(f\"The r-value is: {round(rvalue, 4)}\")\n",
    "\n",
    "# Create the line for the regression data and plot them\n",
    "tv_vs_wt_fit = slope * clean_city_data_NH_df['Lat'] + intercept\n",
    "plt.plot(clean_city_data_NH_df['Lat'],tv_vs_wt_fit,'-', color='r');\n",
    "\n",
    "# add the regression \n",
    "plt.text(0, 10, f\"y = {round(slope, 2)} * x + {round(intercept, 2)}\", horizontalalignment='left', size='medium', color='r', weight='semibold')\n",
    "\n",
    "plt.show()"
   ]
  },
  {
   "cell_type": "markdown",
   "metadata": {},
   "source": [
    "####  Southern Hemisphere - Cloudiness (%) vs. Latitude Linear Regression"
   ]
  },
  {
   "cell_type": "code",
   "execution_count": null,
   "metadata": {},
   "outputs": [],
   "source": [
    "# Plot the latitude versus humidity\n",
    "\n",
    "plt.title(f'City Latitude vs. Cloudiness ({today})')\n",
    "plt.xlabel('Latitude')\n",
    "plt.ylabel('Cloudiness (%)')\n",
    "plt.scatter(clean_city_data_SH_df['Lat'], clean_city_data_SH_df['Cloudiness'])\n",
    "\n",
    "# Get the regression data\n",
    "(slope, intercept, rvalue, pvalue, stderr) = linregress(clean_city_data_SH_df['Lat'], clean_city_data_SH_df['Cloudiness'])\n",
    "\n",
    "# Print the correlation coefficient\n",
    "print(f\"The r-value is: {round(rvalue, 4)}\")\n",
    "\n",
    "# Create the line for the regression data and plot them\n",
    "tv_vs_wt_fit = slope * clean_city_data_SH_df['Lat'] + intercept\n",
    "plt.plot(clean_city_data_SH_df['Lat'],tv_vs_wt_fit,'-', color='r');\n",
    "\n",
    "# add the regression \n",
    "plt.text(-50, 10, f\"y = {round(slope, 2)} * x + {round(intercept, 2)}\", horizontalalignment='left', size='medium', color='r', weight='semibold')\n",
    "\n",
    "plt.show()"
   ]
  },
  {
   "cell_type": "markdown",
   "metadata": {},
   "source": [
    "####  Northern Hemisphere - Wind Speed (mph) vs. Latitude Linear Regression"
   ]
  },
  {
   "cell_type": "code",
   "execution_count": null,
   "metadata": {},
   "outputs": [],
   "source": [
    "# Plot the latitude versus humidity\n",
    "\n",
    "plt.title(f'City Latitude vs. Wind Speed ({today})')\n",
    "plt.xlabel('Latitude')\n",
    "plt.ylabel('Wind Speed (mph)')\n",
    "plt.scatter(clean_city_data_NH_df['Lat'], clean_city_data_NH_df['Wind Speed'])\n",
    "\n",
    "# Get the regression data\n",
    "(slope, intercept, rvalue, pvalue, stderr) = linregress(clean_city_data_NH_df['Lat'], clean_city_data_NH_df['Wind Speed'])\n",
    "\n",
    "# Print the correlation coefficient\n",
    "print(f\"The r-value is: {round(rvalue, 4)}\")\n",
    "\n",
    "# Create the line for the regression data and plot them\n",
    "tv_vs_wt_fit = slope * clean_city_data_NH_df['Lat'] + intercept\n",
    "plt.plot(clean_city_data_NH_df['Lat'],tv_vs_wt_fit,'-', color='r');\n",
    "\n",
    "# add the regression \n",
    "plt.text(0, 27, f\"y = {round(slope, 2)} * x + {round(intercept, 2)}\", horizontalalignment='left', size='medium', color='r', weight='semibold')\n",
    "\n",
    "plt.show()"
   ]
  },
  {
   "cell_type": "markdown",
   "metadata": {},
   "source": [
    "####  Southern Hemisphere - Wind Speed (mph) vs. Latitude Linear Regression"
   ]
  },
  {
   "cell_type": "code",
   "execution_count": null,
   "metadata": {},
   "outputs": [],
   "source": [
    "# Plot the latitude versus humidity\n",
    "\n",
    "plt.title(f'City Latitude vs. Wind Speed ({today})')\n",
    "plt.xlabel('Latitude')\n",
    "plt.ylabel('Wind Speed (mph)')\n",
    "plt.scatter(clean_city_data_SH_df['Lat'], clean_city_data_SH_df['Wind Speed'])\n",
    "\n",
    "# Get the regression data\n",
    "(slope, intercept, rvalue, pvalue, stderr) = linregress(clean_city_data_SH_df['Lat'], clean_city_data_SH_df['Wind Speed'])\n",
    "\n",
    "# Print the correlation coefficient\n",
    "print(f\"The r-value is: {round(rvalue, 4)}\")\n",
    "\n",
    "# Create the line for the regression data and plot them\n",
    "tv_vs_wt_fit = slope * clean_city_data_SH_df['Lat'] + intercept\n",
    "plt.plot(clean_city_data_SH_df['Lat'],tv_vs_wt_fit,'-', color='r');\n",
    "\n",
    "# add the regression \n",
    "plt.text(-20, 40, f\"y = {round(slope, 2)} * x + {round(intercept, 2)}\", horizontalalignment='left', size='medium', color='r', weight='semibold')\n",
    "\n",
    "plt.show()"
   ]
  },
  {
   "cell_type": "code",
   "execution_count": null,
   "metadata": {},
   "outputs": [],
   "source": []
  }
 ],
 "metadata": {
  "anaconda-cloud": {},
  "kernel_info": {
   "name": "python3"
  },
  "kernelspec": {
   "display_name": "Python 3",
   "language": "python",
   "name": "python3"
  },
  "language_info": {
   "codemirror_mode": {
    "name": "ipython",
    "version": 3
   },
   "file_extension": ".py",
   "mimetype": "text/x-python",
   "name": "python",
   "nbconvert_exporter": "python",
   "pygments_lexer": "ipython3",
   "version": "3.8.5"
  },
  "latex_envs": {
   "LaTeX_envs_menu_present": true,
   "autoclose": false,
   "autocomplete": true,
   "bibliofile": "biblio.bib",
   "cite_by": "apalike",
   "current_citInitial": 1,
   "eqLabelWithNumbers": true,
   "eqNumInitial": 1,
   "hotkeys": {
    "equation": "Ctrl-E",
    "itemize": "Ctrl-I"
   },
   "labels_anchors": false,
   "latex_user_defs": false,
   "report_style_numbering": false,
   "user_envs_cfg": false
  },
  "nteract": {
   "version": "0.12.3"
  }
 },
 "nbformat": 4,
 "nbformat_minor": 2
}
